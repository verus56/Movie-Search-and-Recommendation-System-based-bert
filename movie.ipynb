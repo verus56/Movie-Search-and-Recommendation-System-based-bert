{
 "cells": [
  {
   "cell_type": "code",
   "execution_count": 1,
   "id": "168e2ec3",
   "metadata": {},
   "outputs": [],
   "source": [
    "import numpy as np\n",
    "import pandas as pd"
   ]
  },
  {
   "cell_type": "code",
   "execution_count": 2,
   "id": "3ba4f878",
   "metadata": {},
   "outputs": [
    {
     "data": {
      "text/html": [
       "<div>\n",
       "<style scoped>\n",
       "    .dataframe tbody tr th:only-of-type {\n",
       "        vertical-align: middle;\n",
       "    }\n",
       "\n",
       "    .dataframe tbody tr th {\n",
       "        vertical-align: top;\n",
       "    }\n",
       "\n",
       "    .dataframe thead th {\n",
       "        text-align: right;\n",
       "    }\n",
       "</style>\n",
       "<table border=\"1\" class=\"dataframe\">\n",
       "  <thead>\n",
       "    <tr style=\"text-align: right;\">\n",
       "      <th></th>\n",
       "      <th>Release Year</th>\n",
       "      <th>Title</th>\n",
       "      <th>Origin/Ethnicity</th>\n",
       "      <th>Director</th>\n",
       "      <th>Cast</th>\n",
       "      <th>Genre</th>\n",
       "      <th>Wiki Page</th>\n",
       "      <th>Plot</th>\n",
       "    </tr>\n",
       "  </thead>\n",
       "  <tbody>\n",
       "    <tr>\n",
       "      <th>5</th>\n",
       "      <td>1903</td>\n",
       "      <td>Alice in Wonderland</td>\n",
       "      <td>American</td>\n",
       "      <td>Cecil Hepworth</td>\n",
       "      <td>May Clark</td>\n",
       "      <td>unknown</td>\n",
       "      <td>https://en.wikipedia.org/wiki/Alice_in_Wonderl...</td>\n",
       "      <td>Alice follows a large white rabbit down a \"Rab...</td>\n",
       "    </tr>\n",
       "    <tr>\n",
       "      <th>13</th>\n",
       "      <td>1907</td>\n",
       "      <td>Daniel Boone</td>\n",
       "      <td>American</td>\n",
       "      <td>Wallace McCutcheon and Ediwin S. Porter</td>\n",
       "      <td>William Craven, Florence Lawrence</td>\n",
       "      <td>biographical</td>\n",
       "      <td>https://en.wikipedia.org/wiki/Daniel_Boone_(19...</td>\n",
       "      <td>Boone's daughter befriends an Indian maiden as...</td>\n",
       "    </tr>\n",
       "    <tr>\n",
       "      <th>14</th>\n",
       "      <td>1907</td>\n",
       "      <td>How Brown Saw the Baseball Game</td>\n",
       "      <td>American</td>\n",
       "      <td>Unknown</td>\n",
       "      <td>Unknown</td>\n",
       "      <td>comedy</td>\n",
       "      <td>https://en.wikipedia.org/wiki/How_Brown_Saw_th...</td>\n",
       "      <td>Before heading out to a baseball game at a nea...</td>\n",
       "    </tr>\n",
       "    <tr>\n",
       "      <th>15</th>\n",
       "      <td>1907</td>\n",
       "      <td>Laughing Gas</td>\n",
       "      <td>American</td>\n",
       "      <td>Edwin Stanton Porter</td>\n",
       "      <td>Bertha Regustus, Edward Boulden</td>\n",
       "      <td>comedy</td>\n",
       "      <td>https://en.wikipedia.org/wiki/Laughing_Gas_(fi...</td>\n",
       "      <td>The plot is that of a black woman going to the...</td>\n",
       "    </tr>\n",
       "    <tr>\n",
       "      <th>16</th>\n",
       "      <td>1908</td>\n",
       "      <td>The Adventures of Dollie</td>\n",
       "      <td>American</td>\n",
       "      <td>D. W. Griffith</td>\n",
       "      <td>Arthur V. Johnson, Linda Arvidson</td>\n",
       "      <td>drama</td>\n",
       "      <td>https://en.wikipedia.org/wiki/The_Adventures_o...</td>\n",
       "      <td>On a beautiful summer day a father and mother ...</td>\n",
       "    </tr>\n",
       "  </tbody>\n",
       "</table>\n",
       "</div>"
      ],
      "text/plain": [
       "    Release Year                            Title Origin/Ethnicity  \\\n",
       "5           1903              Alice in Wonderland         American   \n",
       "13          1907                     Daniel Boone         American   \n",
       "14          1907  How Brown Saw the Baseball Game         American   \n",
       "15          1907                     Laughing Gas         American   \n",
       "16          1908         The Adventures of Dollie         American   \n",
       "\n",
       "                                   Director  \\\n",
       "5                            Cecil Hepworth   \n",
       "13  Wallace McCutcheon and Ediwin S. Porter   \n",
       "14                                  Unknown   \n",
       "15                     Edwin Stanton Porter   \n",
       "16                           D. W. Griffith   \n",
       "\n",
       "                                 Cast         Genre  \\\n",
       "5                           May Clark       unknown   \n",
       "13  William Craven, Florence Lawrence  biographical   \n",
       "14                            Unknown        comedy   \n",
       "15    Bertha Regustus, Edward Boulden        comedy   \n",
       "16  Arthur V. Johnson, Linda Arvidson         drama   \n",
       "\n",
       "                                            Wiki Page  \\\n",
       "5   https://en.wikipedia.org/wiki/Alice_in_Wonderl...   \n",
       "13  https://en.wikipedia.org/wiki/Daniel_Boone_(19...   \n",
       "14  https://en.wikipedia.org/wiki/How_Brown_Saw_th...   \n",
       "15  https://en.wikipedia.org/wiki/Laughing_Gas_(fi...   \n",
       "16  https://en.wikipedia.org/wiki/The_Adventures_o...   \n",
       "\n",
       "                                                 Plot  \n",
       "5   Alice follows a large white rabbit down a \"Rab...  \n",
       "13  Boone's daughter befriends an Indian maiden as...  \n",
       "14  Before heading out to a baseball game at a nea...  \n",
       "15  The plot is that of a black woman going to the...  \n",
       "16  On a beautiful summer day a father and mother ...  "
      ]
     },
     "execution_count": 2,
     "metadata": {},
     "output_type": "execute_result"
    }
   ],
   "source": [
    "df=pd.read_csv('wiki_movie_plots_deduped.csv')\n",
    "df.dropna(inplace=True)\n",
    "df.drop_duplicates(subset=['Plot'],inplace=True)\n",
    "df.head()"
   ]
  },
  {
   "cell_type": "code",
   "execution_count": 72,
   "id": "afc8be6e",
   "metadata": {},
   "outputs": [],
   "source": [
    "import time\n",
    "\n",
    "# Define the fetch_movie_info function\n",
    "def fetch_movie_info(dataframe_idx):\n",
    "    # Extract information from the DataFrame\n",
    "    info = df.iloc[dataframe_idx]\n",
    "\n",
    "    # Create a dictionary with movie details\n",
    "    meta_dict = {\n",
    "        'Title': info['Title'],\n",
    "        'Year': info['Release Year'],  # Use 'Release Year' as the column name\n",
    "        'Genre': info['Genre']\n",
    "    }\n",
    "    return meta_dict\n",
    "\n",
    "# Define the search function\n",
    "def search(query, K, index, model, Plot=None, Genre=None, ReleaseYear=None):\n",
    "    # Record the starting time for performance measurement\n",
    "    t = time.time()\n",
    "\n",
    "    # Encode the search query using the provided model\n",
    "    query_vector = model.encode([query])\n",
    "\n",
    "    # Perform a similarity search with the Faiss index to find the top K results\n",
    "    top_k = index.search(query_vector, K)\n",
    "\n",
    "    # Calculate and print the total time taken for the search\n",
    "    print('>>>> Results in Total Time: {}'.format(time.time() - t))\n",
    "\n",
    "    # Get the IDs of the top results\n",
    "    top_k_ids = top_k[1].tolist()[0]\n",
    "    top_k_ids = list(np.unique(top_k_ids))\n",
    "\n",
    "    # Initialize an empty list to store the search results\n",
    "    results = []\n",
    "\n",
    "    # Iterate through the top result IDs\n",
    "    for idx in top_k_ids:\n",
    "        info = df.iloc[idx]\n",
    "\n",
    "        # Check if a specific release year is provided and if it matches the movie's release year\n",
    "        if ReleaseYear and ReleaseYear != info['Release Year']:\n",
    "            continue  # Skip movies that don't match the specified release year\n",
    "\n",
    "        # Create a dictionary with movie details\n",
    "        meta_dict = {\n",
    "            'Title': info['Title'],\n",
    "            'Year': info['Release Year'],  \n",
    "            'Genre': info['Genre']\n",
    "        }\n",
    "\n",
    "        # Include the movie's plot if available\n",
    "        if Plot:\n",
    "            meta_dict['Plot'] = info['Plot']\n",
    "\n",
    "        # Add the movie details to the results list\n",
    "        results.append(meta_dict)\n",
    "\n",
    "    return results\n"
   ]
  },
  {
   "cell_type": "code",
   "execution_count": 4,
   "id": "9e448542",
   "metadata": {},
   "outputs": [],
   "source": [
    "from sentence_transformers import SentenceTransformer, InputExample, losses, models, datasets\n",
    "from torch import nn\n",
    "import os\n",
    "import random\n",
    "\n",
    "# Initialize an empty list to store training examples\n",
    "train_examples = []\n",
    "\n",
    "# Iterate through the rows of the DataFrame\n",
    "for i in range(len(df)):\n",
    "    # Extract the 'Title' and 'Plot' information from the DataFrame\n",
    "    query, paragraph = df['Title'].iloc[i], df['Plot'].iloc[i]\n",
    "    \n",
    "    # Create an InputExample object with the 'Title' as query and 'Plot' as paragraph\n",
    "    train_examples.append(InputExample(texts=[query, paragraph]))\n",
    "\n",
    "# Shuffle the list of training examples to ensure randomness\n",
    "random.shuffle(train_examples)\n"
   ]
  },
  {
   "cell_type": "code",
   "execution_count": 5,
   "id": "c7260cce",
   "metadata": {},
   "outputs": [
    {
     "data": {
      "application/vnd.jupyter.widget-view+json": {
       "model_id": "e34f4804444c4ddcb110b038cea34570",
       "version_major": 2,
       "version_minor": 0
      },
      "text/plain": [
       "Downloading (…)lve/main/config.json:   0%|          | 0.00/554 [00:00<?, ?B/s]"
      ]
     },
     "metadata": {},
     "output_type": "display_data"
    },
    {
     "name": "stderr",
     "output_type": "stream",
     "text": [
      "C:\\Users\\thame\\anaconda3\\Lib\\site-packages\\huggingface_hub\\file_download.py:133: UserWarning: `huggingface_hub` cache-system uses symlinks by default to efficiently store duplicated files but your machine does not support them in C:\\Users\\thame\\.cache\\huggingface\\hub. Caching files will still work but in a degraded version that might require more space on your disk. This warning can be disabled by setting the `HF_HUB_DISABLE_SYMLINKS_WARNING` environment variable. For more details, see https://huggingface.co/docs/huggingface_hub/how-to-cache#limitations.\n",
      "To support symlinks on Windows, you either need to activate Developer Mode or to run Python as an administrator. In order to see activate developer mode, see this article: https://docs.microsoft.com/en-us/windows/apps/get-started/enable-your-device-for-development\n",
      "  warnings.warn(message)\n"
     ]
    },
    {
     "data": {
      "application/vnd.jupyter.widget-view+json": {
       "model_id": "b85fd1de105f4004aa384b4b72dbb197",
       "version_major": 2,
       "version_minor": 0
      },
      "text/plain": [
       "Downloading pytorch_model.bin:   0%|          | 0.00/265M [00:00<?, ?B/s]"
      ]
     },
     "metadata": {},
     "output_type": "display_data"
    },
    {
     "data": {
      "application/vnd.jupyter.widget-view+json": {
       "model_id": "98e9d7fb8d964788b88b0e623a9a7363",
       "version_major": 2,
       "version_minor": 0
      },
      "text/plain": [
       "Downloading (…)okenizer_config.json:   0%|          | 0.00/376 [00:00<?, ?B/s]"
      ]
     },
     "metadata": {},
     "output_type": "display_data"
    },
    {
     "data": {
      "application/vnd.jupyter.widget-view+json": {
       "model_id": "2fa11ddd165044008680dbaa5905b277",
       "version_major": 2,
       "version_minor": 0
      },
      "text/plain": [
       "Downloading (…)solve/main/vocab.txt:   0%|          | 0.00/232k [00:00<?, ?B/s]"
      ]
     },
     "metadata": {},
     "output_type": "display_data"
    },
    {
     "data": {
      "application/vnd.jupyter.widget-view+json": {
       "model_id": "6e13b4b23874449fa35611f3cfbb2c2d",
       "version_major": 2,
       "version_minor": 0
      },
      "text/plain": [
       "Downloading (…)/main/tokenizer.json:   0%|          | 0.00/466k [00:00<?, ?B/s]"
      ]
     },
     "metadata": {},
     "output_type": "display_data"
    },
    {
     "data": {
      "application/vnd.jupyter.widget-view+json": {
       "model_id": "f06f49d0352c4781b5385951d6156241",
       "version_major": 2,
       "version_minor": 0
      },
      "text/plain": [
       "Downloading (…)cial_tokens_map.json:   0%|          | 0.00/112 [00:00<?, ?B/s]"
      ]
     },
     "metadata": {},
     "output_type": "display_data"
    }
   ],
   "source": [
    "train_dataloader = datasets.NoDuplicatesDataLoader(train_examples, batch_size=8)\n",
    "\n",
    "# Now we create a SentenceTransformer model from scratch\n",
    "word_emb = models.Transformer('sentence-transformers/msmarco-distilbert-base-dot-prod-v3')\n",
    "#i use distlibert\n",
    "pooling = models.Pooling(word_emb.get_word_embedding_dimension())\n",
    "model = SentenceTransformer(modules=[word_emb, pooling])\n",
    "\n",
    "train_loss = losses.MultipleNegativesRankingLoss(model)\n"
   ]
  },
  {
   "cell_type": "code",
   "execution_count": 6,
   "id": "6adf6dda",
   "metadata": {},
   "outputs": [
    {
     "data": {
      "application/vnd.jupyter.widget-view+json": {
       "model_id": "ba0ecc7bbab34c9aaa380a75f91d4c5e",
       "version_major": 2,
       "version_minor": 0
      },
      "text/plain": [
       "Epoch:   0%|          | 0/3 [00:00<?, ?it/s]"
      ]
     },
     "metadata": {},
     "output_type": "display_data"
    },
    {
     "data": {
      "application/vnd.jupyter.widget-view+json": {
       "model_id": "e84436886b10409d846a3839749a5b2d",
       "version_major": 2,
       "version_minor": 0
      },
      "text/plain": [
       "Iteration:   0%|          | 0/4074 [00:00<?, ?it/s]"
      ]
     },
     "metadata": {},
     "output_type": "display_data"
    },
    {
     "data": {
      "application/vnd.jupyter.widget-view+json": {
       "model_id": "aec77b681dea46f9aa05cc73a8bf8b95",
       "version_major": 2,
       "version_minor": 0
      },
      "text/plain": [
       "Iteration:   0%|          | 0/4074 [00:00<?, ?it/s]"
      ]
     },
     "metadata": {},
     "output_type": "display_data"
    },
    {
     "data": {
      "application/vnd.jupyter.widget-view+json": {
       "model_id": "79bf3883e58e4ff8816b915439470ba0",
       "version_major": 2,
       "version_minor": 0
      },
      "text/plain": [
       "Iteration:   0%|          | 0/4074 [00:00<?, ?it/s]"
      ]
     },
     "metadata": {},
     "output_type": "display_data"
    }
   ],
   "source": [
    "# Tune the model\n",
    "\n",
    "# Define the number of training epochs\n",
    "num_epochs = 3\n",
    "\n",
    "# Calculate the number of warm-up steps as 10% of the total training steps\n",
    "warmup_steps = int(len(train_dataloader) * num_epochs * 0.1)\n",
    "\n",
    "# Fine-tune the model by fitting it to the training data\n",
    "model.fit(train_objectives=[(train_dataloader, train_loss)], epochs=num_epochs, warmup_steps=warmup_steps, show_progress_bar=True)\n"
   ]
  },
  {
   "cell_type": "code",
   "execution_count": 9,
   "id": "8c6d159f",
   "metadata": {},
   "outputs": [],
   "source": [
    "import faiss\n",
    "# Encode the 'Plot' column of the DataFrame using the model\n",
    "encoded_data = model.encode(df.Plot.tolist())\n",
    "\n",
    "# Convert the encoded data to float32 for Faiss compatibility\n",
    "encoded_data = np.asarray(encoded_data.astype('float32'))\n",
    "\n",
    "# Initialize a Faiss index with Inner Product (IP) similarity\n",
    "index = faiss.IndexIDMap(faiss.IndexFlatIP(768))\n",
    "\n",
    "# Add the encoded data to the Faiss index with unique IDs\n",
    "index.add_with_ids(encoded_data, np.array(range(0, len(df)))\n",
    "\n",
    "# Write the Faiss index to a file for future use\n",
    "faiss.write_index(index, 'movie_plot.index')"
   ]
  },
  {
   "cell_type": "code",
   "execution_count": 10,
   "id": "0d349deb",
   "metadata": {},
   "outputs": [
    {
     "name": "stdout",
     "output_type": "stream",
     "text": [
      ">>>> Results in Total Time: 0.5532848834991455\n",
      "\n",
      "\n",
      "\t {'Title': 'Short Circuit'}\n",
      "\t {'Title': 'Remote Control'}\n",
      "\t {'Title': 'Antitrust'}\n",
      "\t {'Title': 'How to Make a Monster'}\n",
      "\t {'Title': 'Armed Response'}\n"
     ]
    }
   ],
   "source": [
    "from pprint import pprint\n",
    "\n",
    "query=\"Artificial Intelligence based action movie\"\n",
    "results=search(query, top_k=5, index=index, model=model)\n",
    "\n",
    "print(\"\\n\")\n",
    "for result in results:\n",
    "    print('\\t',result)"
   ]
  },
  {
   "cell_type": "code",
   "execution_count": 12,
   "id": "11829c01",
   "metadata": {},
   "outputs": [],
   "source": [
    "model.save('C:/Users/thame/Desktop/m2 miv/test/movie_search_model')"
   ]
  },
  {
   "cell_type": "code",
   "execution_count": 13,
   "id": "71d87da3",
   "metadata": {},
   "outputs": [],
   "source": [
    "new_model = SentenceTransformer('C:/Users/thame/Desktop/m2 miv/test/movie_search_model')"
   ]
  },
  {
   "cell_type": "code",
   "execution_count": 76,
   "id": "773e3c56",
   "metadata": {},
   "outputs": [
    {
     "name": "stdout",
     "output_type": "stream",
     "text": [
      ">>>> Results in Total Time: 0.036551713943481445\n",
      "Title: My Love, My Bride\n",
      "Release Year: 2014\n",
      "Genre: unknown\n",
      "\n",
      "\n",
      "Title: Red Carpet\n",
      "Release Year: 2014\n",
      "Genre: unknown\n",
      "\n",
      "\n"
     ]
    }
   ],
   "source": [
    "query = \"romance movie\"\n",
    "K = 10\n",
    "Genre = \"Romance\"\n",
    "ReleaseYear = 2014\n",
    "\n",
    "results = search(query, K, index, model, Plot, Genre, ReleaseYear)\n",
    "\n",
    "# Check if there are any results\n",
    "if not results:\n",
    "    print(\"No movies found with the given criteria.\")\n",
    "else:\n",
    "    # Print the results\n",
    "    for result in results:\n",
    "        print(\"Title:\", result['Title'])\n",
    "        print(\"Release Year:\", result['Year'])\n",
    "        print(\"Genre:\", result['Genre'])\n",
    "        #if 'Plot' in result:\n",
    "            #print(\"Plot:\", result['Plot'])\n",
    "        if 'ReleaseYear' in result:\n",
    "            print(\"ReleaseYear:\", result['ReleaseYear'])\n",
    "        print(\"\\n\")\n"
   ]
  },
  {
   "cell_type": "code",
   "execution_count": 77,
   "id": "b800287a",
   "metadata": {},
   "outputs": [
    {
     "name": "stdout",
     "output_type": "stream",
     "text": [
      ">>>> Results in Total Time: 0.03142285346984863\n",
      "Title:  Echelon Conspiracy\n",
      "Release Year: 2009\n",
      "Genre: action\n",
      "\n",
      "\n"
     ]
    }
   ],
   "source": [
    "query = \"hacker\"\n",
    "K = 10\n",
    "Genre = \"action\"\n",
    "ReleaseYear = 2009\n",
    "\n",
    "results = search(query, K, index, model, Plot, Genre, ReleaseYear)\n",
    "\n",
    "# Check if there are any results\n",
    "if not results:\n",
    "    print(\"No movies found with the given criteria.\")\n",
    "else:\n",
    "    # Print the results\n",
    "    for result in results:\n",
    "        print(\"Title:\", result['Title'])\n",
    "        print(\"Release Year:\", result['Year'])\n",
    "        print(\"Genre:\", result['Genre'])\n",
    "        #if 'Plot' in result:\n",
    "            #print(\"Plot:\", result['Plot'])\n",
    "        if 'ReleaseYear' in result:\n",
    "            print(\"ReleaseYear:\", result['ReleaseYear'])\n",
    "        print(\"\\n\")\n",
    "\n"
   ]
  },
  {
   "cell_type": "code",
   "execution_count": 78,
   "id": "f032e9f7",
   "metadata": {},
   "outputs": [
    {
     "name": "stdout",
     "output_type": "stream",
     "text": [
      ">>>> Results in Total Time: 0.028706789016723633\n",
      "No movies found with the given criteria.\n"
     ]
    }
   ],
   "source": [
    "query = \"hacker\"\n",
    "K = 10\n",
    "Genre = \"action\"\n",
    "ReleaseYear = 2000\n",
    "\n",
    "results = search(query, K, index, model, Plot, Genre, ReleaseYear)\n",
    "\n",
    "# Check if there are any results\n",
    "if not results:\n",
    "    print(\"No movies found with the given criteria.\")\n",
    "else:\n",
    "    # Print the results\n",
    "    for result in results:\n",
    "        print(\"Title:\", result['Title'])\n",
    "        print(\"Release Year:\", result['Year'])\n",
    "        print(\"Genre:\", result['Genre'])\n",
    "        #if 'Plot' in result:\n",
    "            #print(\"Plot:\", result['Plot'])\n",
    "        if 'ReleaseYear' in result:\n",
    "            print(\"ReleaseYear:\", result['ReleaseYear'])\n",
    "        print(\"\\n\")\n",
    "\n"
   ]
  },
  {
   "cell_type": "code",
   "execution_count": null,
   "id": "b06b0fe3",
   "metadata": {},
   "outputs": [],
   "source": []
  }
 ],
 "metadata": {
  "kernelspec": {
   "display_name": "Python 3 (ipykernel)",
   "language": "python",
   "name": "python3"
  },
  "language_info": {
   "codemirror_mode": {
    "name": "ipython",
    "version": 3
   },
   "file_extension": ".py",
   "mimetype": "text/x-python",
   "name": "python",
   "nbconvert_exporter": "python",
   "pygments_lexer": "ipython3",
   "version": "3.11.5"
  }
 },
 "nbformat": 4,
 "nbformat_minor": 5
}
